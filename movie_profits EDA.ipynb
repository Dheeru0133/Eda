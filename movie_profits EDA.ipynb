{
 "cells": [
  {
   "cell_type": "code",
   "execution_count": 1,
   "id": "6318b2b8-33d6-48b2-bd99-fa9205427609",
   "metadata": {},
   "outputs": [],
   "source": [
    "import pandas as pd\n",
    "import matplotlib.pyplot as plt\n",
    "import seaborn as sns"
   ]
  },
  {
   "cell_type": "code",
   "execution_count": 27,
   "id": "1e8e2c06-b32c-4db6-b426-2c357194b315",
   "metadata": {},
   "outputs": [],
   "source": [
    "df = pd.read_csv(\"C:/Users/samba/Downloads/archive (13)/movie_profit.csv\")"
   ]
  },
  {
   "cell_type": "code",
   "execution_count": 28,
   "id": "4f84c12d-a650-4f4b-9787-8253202fbcab",
   "metadata": {},
   "outputs": [
    {
     "data": {
      "text/html": [
       "<div>\n",
       "<style scoped>\n",
       "    .dataframe tbody tr th:only-of-type {\n",
       "        vertical-align: middle;\n",
       "    }\n",
       "\n",
       "    .dataframe tbody tr th {\n",
       "        vertical-align: top;\n",
       "    }\n",
       "\n",
       "    .dataframe thead th {\n",
       "        text-align: right;\n",
       "    }\n",
       "</style>\n",
       "<table border=\"1\" class=\"dataframe\">\n",
       "  <thead>\n",
       "    <tr style=\"text-align: right;\">\n",
       "      <th></th>\n",
       "      <th>Unnamed: 0</th>\n",
       "      <th>release_date</th>\n",
       "      <th>movie</th>\n",
       "      <th>production_budget</th>\n",
       "      <th>domestic_gross</th>\n",
       "      <th>worldwide_gross</th>\n",
       "      <th>distributor</th>\n",
       "      <th>mpaa_rating</th>\n",
       "      <th>genre</th>\n",
       "    </tr>\n",
       "  </thead>\n",
       "  <tbody>\n",
       "    <tr>\n",
       "      <th>0</th>\n",
       "      <td>1</td>\n",
       "      <td>6/22/2007</td>\n",
       "      <td>Evan Almighty</td>\n",
       "      <td>175000000.0</td>\n",
       "      <td>100289690.0</td>\n",
       "      <td>1.741313e+08</td>\n",
       "      <td>Universal</td>\n",
       "      <td>PG</td>\n",
       "      <td>Comedy</td>\n",
       "    </tr>\n",
       "    <tr>\n",
       "      <th>1</th>\n",
       "      <td>2</td>\n",
       "      <td>7/28/1995</td>\n",
       "      <td>Waterworld</td>\n",
       "      <td>175000000.0</td>\n",
       "      <td>88246220.0</td>\n",
       "      <td>2.642462e+08</td>\n",
       "      <td>Universal</td>\n",
       "      <td>PG-13</td>\n",
       "      <td>Action</td>\n",
       "    </tr>\n",
       "    <tr>\n",
       "      <th>2</th>\n",
       "      <td>3</td>\n",
       "      <td>5/12/2017</td>\n",
       "      <td>King Arthur: Legend of the Sword</td>\n",
       "      <td>175000000.0</td>\n",
       "      <td>39175066.0</td>\n",
       "      <td>1.399507e+08</td>\n",
       "      <td>Warner Bros.</td>\n",
       "      <td>PG-13</td>\n",
       "      <td>Adventure</td>\n",
       "    </tr>\n",
       "    <tr>\n",
       "      <th>3</th>\n",
       "      <td>4</td>\n",
       "      <td>12/25/2013</td>\n",
       "      <td>47 Ronin</td>\n",
       "      <td>175000000.0</td>\n",
       "      <td>38362475.0</td>\n",
       "      <td>1.517168e+08</td>\n",
       "      <td>Universal</td>\n",
       "      <td>PG-13</td>\n",
       "      <td>Action</td>\n",
       "    </tr>\n",
       "    <tr>\n",
       "      <th>4</th>\n",
       "      <td>5</td>\n",
       "      <td>6/22/2018</td>\n",
       "      <td>Jurassic World: Fallen Kingdom</td>\n",
       "      <td>170000000.0</td>\n",
       "      <td>416769345.0</td>\n",
       "      <td>1.304866e+09</td>\n",
       "      <td>Universal</td>\n",
       "      <td>PG-13</td>\n",
       "      <td>Action</td>\n",
       "    </tr>\n",
       "  </tbody>\n",
       "</table>\n",
       "</div>"
      ],
      "text/plain": [
       "   Unnamed: 0 release_date                             movie  \\\n",
       "0           1    6/22/2007                     Evan Almighty   \n",
       "1           2    7/28/1995                        Waterworld   \n",
       "2           3    5/12/2017  King Arthur: Legend of the Sword   \n",
       "3           4   12/25/2013                          47 Ronin   \n",
       "4           5    6/22/2018    Jurassic World: Fallen Kingdom   \n",
       "\n",
       "   production_budget  domestic_gross  worldwide_gross   distributor  \\\n",
       "0        175000000.0     100289690.0     1.741313e+08     Universal   \n",
       "1        175000000.0      88246220.0     2.642462e+08     Universal   \n",
       "2        175000000.0      39175066.0     1.399507e+08  Warner Bros.   \n",
       "3        175000000.0      38362475.0     1.517168e+08     Universal   \n",
       "4        170000000.0     416769345.0     1.304866e+09     Universal   \n",
       "\n",
       "  mpaa_rating      genre  \n",
       "0          PG     Comedy  \n",
       "1       PG-13     Action  \n",
       "2       PG-13  Adventure  \n",
       "3       PG-13     Action  \n",
       "4       PG-13     Action  "
      ]
     },
     "execution_count": 28,
     "metadata": {},
     "output_type": "execute_result"
    }
   ],
   "source": [
    "df.head()"
   ]
  },
  {
   "cell_type": "code",
   "execution_count": 29,
   "id": "8083a5fa-055a-4098-9d9e-e747f3588172",
   "metadata": {},
   "outputs": [
    {
     "data": {
      "text/plain": [
       "Index(['Unnamed: 0', 'release_date', 'movie', 'production_budget',\n",
       "       'domestic_gross', 'worldwide_gross', 'distributor', 'mpaa_rating',\n",
       "       'genre'],\n",
       "      dtype='object')"
      ]
     },
     "execution_count": 29,
     "metadata": {},
     "output_type": "execute_result"
    }
   ],
   "source": [
    "df.columns"
   ]
  },
  {
   "cell_type": "code",
   "execution_count": 30,
   "id": "0c32279b-76d1-41c6-8401-2721ee8d7c56",
   "metadata": {},
   "outputs": [],
   "source": [
    "df.drop(columns = ('Unnamed: 0'),inplace = True)"
   ]
  },
  {
   "cell_type": "code",
   "execution_count": 32,
   "id": "8668c6e2-e0f0-400c-a955-034bf7a2cb70",
   "metadata": {},
   "outputs": [
    {
     "data": {
      "text/html": [
       "<div>\n",
       "<style scoped>\n",
       "    .dataframe tbody tr th:only-of-type {\n",
       "        vertical-align: middle;\n",
       "    }\n",
       "\n",
       "    .dataframe tbody tr th {\n",
       "        vertical-align: top;\n",
       "    }\n",
       "\n",
       "    .dataframe thead th {\n",
       "        text-align: right;\n",
       "    }\n",
       "</style>\n",
       "<table border=\"1\" class=\"dataframe\">\n",
       "  <thead>\n",
       "    <tr style=\"text-align: right;\">\n",
       "      <th></th>\n",
       "      <th>release_date</th>\n",
       "      <th>movie</th>\n",
       "      <th>production_budget</th>\n",
       "      <th>domestic_gross</th>\n",
       "      <th>worldwide_gross</th>\n",
       "      <th>distributor</th>\n",
       "      <th>mpaa_rating</th>\n",
       "      <th>genre</th>\n",
       "    </tr>\n",
       "  </thead>\n",
       "  <tbody>\n",
       "    <tr>\n",
       "      <th>0</th>\n",
       "      <td>6/22/2007</td>\n",
       "      <td>Evan Almighty</td>\n",
       "      <td>175000000.0</td>\n",
       "      <td>100289690.0</td>\n",
       "      <td>1.741313e+08</td>\n",
       "      <td>Universal</td>\n",
       "      <td>PG</td>\n",
       "      <td>Comedy</td>\n",
       "    </tr>\n",
       "    <tr>\n",
       "      <th>1</th>\n",
       "      <td>7/28/1995</td>\n",
       "      <td>Waterworld</td>\n",
       "      <td>175000000.0</td>\n",
       "      <td>88246220.0</td>\n",
       "      <td>2.642462e+08</td>\n",
       "      <td>Universal</td>\n",
       "      <td>PG-13</td>\n",
       "      <td>Action</td>\n",
       "    </tr>\n",
       "    <tr>\n",
       "      <th>2</th>\n",
       "      <td>5/12/2017</td>\n",
       "      <td>King Arthur: Legend of the Sword</td>\n",
       "      <td>175000000.0</td>\n",
       "      <td>39175066.0</td>\n",
       "      <td>1.399507e+08</td>\n",
       "      <td>Warner Bros.</td>\n",
       "      <td>PG-13</td>\n",
       "      <td>Adventure</td>\n",
       "    </tr>\n",
       "    <tr>\n",
       "      <th>3</th>\n",
       "      <td>12/25/2013</td>\n",
       "      <td>47 Ronin</td>\n",
       "      <td>175000000.0</td>\n",
       "      <td>38362475.0</td>\n",
       "      <td>1.517168e+08</td>\n",
       "      <td>Universal</td>\n",
       "      <td>PG-13</td>\n",
       "      <td>Action</td>\n",
       "    </tr>\n",
       "    <tr>\n",
       "      <th>4</th>\n",
       "      <td>6/22/2018</td>\n",
       "      <td>Jurassic World: Fallen Kingdom</td>\n",
       "      <td>170000000.0</td>\n",
       "      <td>416769345.0</td>\n",
       "      <td>1.304866e+09</td>\n",
       "      <td>Universal</td>\n",
       "      <td>PG-13</td>\n",
       "      <td>Action</td>\n",
       "    </tr>\n",
       "  </tbody>\n",
       "</table>\n",
       "</div>"
      ],
      "text/plain": [
       "  release_date                             movie  production_budget  \\\n",
       "0    6/22/2007                     Evan Almighty        175000000.0   \n",
       "1    7/28/1995                        Waterworld        175000000.0   \n",
       "2    5/12/2017  King Arthur: Legend of the Sword        175000000.0   \n",
       "3   12/25/2013                          47 Ronin        175000000.0   \n",
       "4    6/22/2018    Jurassic World: Fallen Kingdom        170000000.0   \n",
       "\n",
       "   domestic_gross  worldwide_gross   distributor mpaa_rating      genre  \n",
       "0     100289690.0     1.741313e+08     Universal          PG     Comedy  \n",
       "1      88246220.0     2.642462e+08     Universal       PG-13     Action  \n",
       "2      39175066.0     1.399507e+08  Warner Bros.       PG-13  Adventure  \n",
       "3      38362475.0     1.517168e+08     Universal       PG-13     Action  \n",
       "4     416769345.0     1.304866e+09     Universal       PG-13     Action  "
      ]
     },
     "execution_count": 32,
     "metadata": {},
     "output_type": "execute_result"
    }
   ],
   "source": [
    "df.head()"
   ]
  },
  {
   "cell_type": "code",
   "execution_count": 33,
   "id": "a5810e5d-0f4f-4e6a-9faf-be3f1efb0368",
   "metadata": {},
   "outputs": [
    {
     "name": "stdout",
     "output_type": "stream",
     "text": [
      "<class 'pandas.core.frame.DataFrame'>\n",
      "RangeIndex: 3401 entries, 0 to 3400\n",
      "Data columns (total 8 columns):\n",
      " #   Column             Non-Null Count  Dtype  \n",
      "---  ------             --------------  -----  \n",
      " 0   release_date       3401 non-null   object \n",
      " 1   movie              3401 non-null   object \n",
      " 2   production_budget  3401 non-null   float64\n",
      " 3   domestic_gross     3401 non-null   float64\n",
      " 4   worldwide_gross    3401 non-null   float64\n",
      " 5   distributor        3353 non-null   object \n",
      " 6   mpaa_rating        3264 non-null   object \n",
      " 7   genre              3401 non-null   object \n",
      "dtypes: float64(3), object(5)\n",
      "memory usage: 212.7+ KB\n"
     ]
    }
   ],
   "source": [
    "df.info()"
   ]
  },
  {
   "cell_type": "code",
   "execution_count": 35,
   "id": "051d6aae-1e57-4306-a57f-db0b93256ce1",
   "metadata": {},
   "outputs": [
    {
     "data": {
      "text/plain": [
       "release_date           0\n",
       "movie                  0\n",
       "production_budget      0\n",
       "domestic_gross         0\n",
       "worldwide_gross        0\n",
       "distributor           48\n",
       "mpaa_rating          137\n",
       "genre                  0\n",
       "dtype: int64"
      ]
     },
     "execution_count": 35,
     "metadata": {},
     "output_type": "execute_result"
    }
   ],
   "source": [
    "df.isnull().sum()"
   ]
  },
  {
   "cell_type": "code",
   "execution_count": 37,
   "id": "ca78224d-520f-460b-a0e5-906886511f14",
   "metadata": {},
   "outputs": [
    {
     "data": {
      "text/plain": [
       "(3401, 8)"
      ]
     },
     "execution_count": 37,
     "metadata": {},
     "output_type": "execute_result"
    }
   ],
   "source": [
    "df.shape"
   ]
  },
  {
   "cell_type": "code",
   "execution_count": 40,
   "id": "f4769823-0a4b-4be5-896a-9a34f44aab5a",
   "metadata": {},
   "outputs": [],
   "source": [
    "df.dropna(inplace = True)"
   ]
  },
  {
   "cell_type": "code",
   "execution_count": 41,
   "id": "eef27a2e-e4d9-449c-93f5-3d1ce59a08d7",
   "metadata": {},
   "outputs": [
    {
     "data": {
      "text/plain": [
       "release_date         0\n",
       "movie                0\n",
       "production_budget    0\n",
       "domestic_gross       0\n",
       "worldwide_gross      0\n",
       "distributor          0\n",
       "mpaa_rating          0\n",
       "genre                0\n",
       "dtype: int64"
      ]
     },
     "execution_count": 41,
     "metadata": {},
     "output_type": "execute_result"
    }
   ],
   "source": [
    "df.isna().sum()"
   ]
  },
  {
   "cell_type": "code",
   "execution_count": 42,
   "id": "b33a7d1f-b2b7-4ed7-9168-75d2c48fad5d",
   "metadata": {},
   "outputs": [
    {
     "data": {
      "text/plain": [
       "0"
      ]
     },
     "execution_count": 42,
     "metadata": {},
     "output_type": "execute_result"
    }
   ],
   "source": [
    "df.duplicated().sum()"
   ]
  },
  {
   "cell_type": "code",
   "execution_count": 44,
   "id": "7883a9d3-72c8-4b12-a04c-7ff7bd4557cd",
   "metadata": {},
   "outputs": [
    {
     "data": {
      "text/html": [
       "<div>\n",
       "<style scoped>\n",
       "    .dataframe tbody tr th:only-of-type {\n",
       "        vertical-align: middle;\n",
       "    }\n",
       "\n",
       "    .dataframe tbody tr th {\n",
       "        vertical-align: top;\n",
       "    }\n",
       "\n",
       "    .dataframe thead th {\n",
       "        text-align: right;\n",
       "    }\n",
       "</style>\n",
       "<table border=\"1\" class=\"dataframe\">\n",
       "  <thead>\n",
       "    <tr style=\"text-align: right;\">\n",
       "      <th></th>\n",
       "      <th>production_budget</th>\n",
       "      <th>domestic_gross</th>\n",
       "      <th>worldwide_gross</th>\n",
       "    </tr>\n",
       "  </thead>\n",
       "  <tbody>\n",
       "    <tr>\n",
       "      <th>count</th>\n",
       "      <td>3.230000e+03</td>\n",
       "      <td>3.230000e+03</td>\n",
       "      <td>3.230000e+03</td>\n",
       "    </tr>\n",
       "    <tr>\n",
       "      <th>mean</th>\n",
       "      <td>3.459218e+07</td>\n",
       "      <td>4.726805e+07</td>\n",
       "      <td>9.841706e+07</td>\n",
       "    </tr>\n",
       "    <tr>\n",
       "      <th>std</th>\n",
       "      <td>3.526337e+07</td>\n",
       "      <td>5.973707e+07</td>\n",
       "      <td>1.432841e+08</td>\n",
       "    </tr>\n",
       "    <tr>\n",
       "      <th>min</th>\n",
       "      <td>2.500000e+05</td>\n",
       "      <td>0.000000e+00</td>\n",
       "      <td>0.000000e+00</td>\n",
       "    </tr>\n",
       "    <tr>\n",
       "      <th>25%</th>\n",
       "      <td>1.000000e+07</td>\n",
       "      <td>6.867944e+06</td>\n",
       "      <td>1.177994e+07</td>\n",
       "    </tr>\n",
       "    <tr>\n",
       "      <th>50%</th>\n",
       "      <td>2.200000e+07</td>\n",
       "      <td>2.733297e+07</td>\n",
       "      <td>4.404424e+07</td>\n",
       "    </tr>\n",
       "    <tr>\n",
       "      <th>75%</th>\n",
       "      <td>4.900000e+07</td>\n",
       "      <td>6.341329e+07</td>\n",
       "      <td>1.252019e+08</td>\n",
       "    </tr>\n",
       "    <tr>\n",
       "      <th>max</th>\n",
       "      <td>1.750000e+08</td>\n",
       "      <td>4.745447e+08</td>\n",
       "      <td>1.304866e+09</td>\n",
       "    </tr>\n",
       "  </tbody>\n",
       "</table>\n",
       "</div>"
      ],
      "text/plain": [
       "       production_budget  domestic_gross  worldwide_gross\n",
       "count       3.230000e+03    3.230000e+03     3.230000e+03\n",
       "mean        3.459218e+07    4.726805e+07     9.841706e+07\n",
       "std         3.526337e+07    5.973707e+07     1.432841e+08\n",
       "min         2.500000e+05    0.000000e+00     0.000000e+00\n",
       "25%         1.000000e+07    6.867944e+06     1.177994e+07\n",
       "50%         2.200000e+07    2.733297e+07     4.404424e+07\n",
       "75%         4.900000e+07    6.341329e+07     1.252019e+08\n",
       "max         1.750000e+08    4.745447e+08     1.304866e+09"
      ]
     },
     "execution_count": 44,
     "metadata": {},
     "output_type": "execute_result"
    }
   ],
   "source": [
    "df.describe()"
   ]
  },
  {
   "cell_type": "code",
   "execution_count": 45,
   "id": "cf3428e6-0232-4bf9-9015-d3c84e976b18",
   "metadata": {},
   "outputs": [
    {
     "data": {
      "text/html": [
       "<div>\n",
       "<style scoped>\n",
       "    .dataframe tbody tr th:only-of-type {\n",
       "        vertical-align: middle;\n",
       "    }\n",
       "\n",
       "    .dataframe tbody tr th {\n",
       "        vertical-align: top;\n",
       "    }\n",
       "\n",
       "    .dataframe thead th {\n",
       "        text-align: right;\n",
       "    }\n",
       "</style>\n",
       "<table border=\"1\" class=\"dataframe\">\n",
       "  <thead>\n",
       "    <tr style=\"text-align: right;\">\n",
       "      <th></th>\n",
       "      <th>release_date</th>\n",
       "      <th>movie</th>\n",
       "      <th>production_budget</th>\n",
       "      <th>domestic_gross</th>\n",
       "      <th>worldwide_gross</th>\n",
       "      <th>distributor</th>\n",
       "      <th>mpaa_rating</th>\n",
       "      <th>genre</th>\n",
       "    </tr>\n",
       "  </thead>\n",
       "  <tbody>\n",
       "    <tr>\n",
       "      <th>0</th>\n",
       "      <td>6/22/2007</td>\n",
       "      <td>Evan Almighty</td>\n",
       "      <td>175000000.0</td>\n",
       "      <td>100289690.0</td>\n",
       "      <td>1.741313e+08</td>\n",
       "      <td>Universal</td>\n",
       "      <td>PG</td>\n",
       "      <td>Comedy</td>\n",
       "    </tr>\n",
       "    <tr>\n",
       "      <th>1</th>\n",
       "      <td>7/28/1995</td>\n",
       "      <td>Waterworld</td>\n",
       "      <td>175000000.0</td>\n",
       "      <td>88246220.0</td>\n",
       "      <td>2.642462e+08</td>\n",
       "      <td>Universal</td>\n",
       "      <td>PG-13</td>\n",
       "      <td>Action</td>\n",
       "    </tr>\n",
       "    <tr>\n",
       "      <th>2</th>\n",
       "      <td>5/12/2017</td>\n",
       "      <td>King Arthur: Legend of the Sword</td>\n",
       "      <td>175000000.0</td>\n",
       "      <td>39175066.0</td>\n",
       "      <td>1.399507e+08</td>\n",
       "      <td>Warner Bros.</td>\n",
       "      <td>PG-13</td>\n",
       "      <td>Adventure</td>\n",
       "    </tr>\n",
       "    <tr>\n",
       "      <th>3</th>\n",
       "      <td>12/25/2013</td>\n",
       "      <td>47 Ronin</td>\n",
       "      <td>175000000.0</td>\n",
       "      <td>38362475.0</td>\n",
       "      <td>1.517168e+08</td>\n",
       "      <td>Universal</td>\n",
       "      <td>PG-13</td>\n",
       "      <td>Action</td>\n",
       "    </tr>\n",
       "    <tr>\n",
       "      <th>4</th>\n",
       "      <td>6/22/2018</td>\n",
       "      <td>Jurassic World: Fallen Kingdom</td>\n",
       "      <td>170000000.0</td>\n",
       "      <td>416769345.0</td>\n",
       "      <td>1.304866e+09</td>\n",
       "      <td>Universal</td>\n",
       "      <td>PG-13</td>\n",
       "      <td>Action</td>\n",
       "    </tr>\n",
       "    <tr>\n",
       "      <th>...</th>\n",
       "      <td>...</td>\n",
       "      <td>...</td>\n",
       "      <td>...</td>\n",
       "      <td>...</td>\n",
       "      <td>...</td>\n",
       "      <td>...</td>\n",
       "      <td>...</td>\n",
       "      <td>...</td>\n",
       "    </tr>\n",
       "    <tr>\n",
       "      <th>3395</th>\n",
       "      <td>4/11/2003</td>\n",
       "      <td>Better Luck Tomorrow</td>\n",
       "      <td>250000.0</td>\n",
       "      <td>3802390.0</td>\n",
       "      <td>3.809226e+06</td>\n",
       "      <td>Paramount Pictures</td>\n",
       "      <td>R</td>\n",
       "      <td>Drama</td>\n",
       "    </tr>\n",
       "    <tr>\n",
       "      <th>3396</th>\n",
       "      <td>10/28/2011</td>\n",
       "      <td>Like Crazy</td>\n",
       "      <td>250000.0</td>\n",
       "      <td>3395391.0</td>\n",
       "      <td>3.728400e+06</td>\n",
       "      <td>Paramount Pictures</td>\n",
       "      <td>PG-13</td>\n",
       "      <td>Drama</td>\n",
       "    </tr>\n",
       "    <tr>\n",
       "      <th>3397</th>\n",
       "      <td>7/14/2000</td>\n",
       "      <td>Chuck&amp;Buck</td>\n",
       "      <td>250000.0</td>\n",
       "      <td>1055671.0</td>\n",
       "      <td>1.157672e+06</td>\n",
       "      <td>Artisan</td>\n",
       "      <td>R</td>\n",
       "      <td>Drama</td>\n",
       "    </tr>\n",
       "    <tr>\n",
       "      <th>3398</th>\n",
       "      <td>3/28/1997</td>\n",
       "      <td>Love and Other Catastrophes</td>\n",
       "      <td>250000.0</td>\n",
       "      <td>212285.0</td>\n",
       "      <td>7.432160e+05</td>\n",
       "      <td>Fox Searchlight</td>\n",
       "      <td>R</td>\n",
       "      <td>Comedy</td>\n",
       "    </tr>\n",
       "    <tr>\n",
       "      <th>3400</th>\n",
       "      <td>7/22/2005</td>\n",
       "      <td>November</td>\n",
       "      <td>250000.0</td>\n",
       "      <td>191862.0</td>\n",
       "      <td>1.918620e+05</td>\n",
       "      <td>Sony Pictures Classics</td>\n",
       "      <td>R</td>\n",
       "      <td>Drama</td>\n",
       "    </tr>\n",
       "  </tbody>\n",
       "</table>\n",
       "<p>3230 rows × 8 columns</p>\n",
       "</div>"
      ],
      "text/plain": [
       "     release_date                             movie  production_budget  \\\n",
       "0       6/22/2007                     Evan Almighty        175000000.0   \n",
       "1       7/28/1995                        Waterworld        175000000.0   \n",
       "2       5/12/2017  King Arthur: Legend of the Sword        175000000.0   \n",
       "3      12/25/2013                          47 Ronin        175000000.0   \n",
       "4       6/22/2018    Jurassic World: Fallen Kingdom        170000000.0   \n",
       "...           ...                               ...                ...   \n",
       "3395    4/11/2003              Better Luck Tomorrow           250000.0   \n",
       "3396   10/28/2011                        Like Crazy           250000.0   \n",
       "3397    7/14/2000                        Chuck&Buck           250000.0   \n",
       "3398    3/28/1997       Love and Other Catastrophes           250000.0   \n",
       "3400    7/22/2005                          November           250000.0   \n",
       "\n",
       "      domestic_gross  worldwide_gross             distributor mpaa_rating  \\\n",
       "0        100289690.0     1.741313e+08               Universal          PG   \n",
       "1         88246220.0     2.642462e+08               Universal       PG-13   \n",
       "2         39175066.0     1.399507e+08            Warner Bros.       PG-13   \n",
       "3         38362475.0     1.517168e+08               Universal       PG-13   \n",
       "4        416769345.0     1.304866e+09               Universal       PG-13   \n",
       "...              ...              ...                     ...         ...   \n",
       "3395       3802390.0     3.809226e+06      Paramount Pictures           R   \n",
       "3396       3395391.0     3.728400e+06      Paramount Pictures       PG-13   \n",
       "3397       1055671.0     1.157672e+06                 Artisan           R   \n",
       "3398        212285.0     7.432160e+05         Fox Searchlight           R   \n",
       "3400        191862.0     1.918620e+05  Sony Pictures Classics           R   \n",
       "\n",
       "          genre  \n",
       "0        Comedy  \n",
       "1        Action  \n",
       "2     Adventure  \n",
       "3        Action  \n",
       "4        Action  \n",
       "...         ...  \n",
       "3395      Drama  \n",
       "3396      Drama  \n",
       "3397      Drama  \n",
       "3398     Comedy  \n",
       "3400      Drama  \n",
       "\n",
       "[3230 rows x 8 columns]"
      ]
     },
     "execution_count": 45,
     "metadata": {},
     "output_type": "execute_result"
    }
   ],
   "source": [
    "df"
   ]
  },
  {
   "cell_type": "code",
   "execution_count": 49,
   "id": "6a0e9f68-a104-4013-8b89-a42e862bf395",
   "metadata": {},
   "outputs": [],
   "source": [
    "df.sort_values(\"production_budget\", ascending = True, inplace = True)"
   ]
  },
  {
   "cell_type": "code",
   "execution_count": 50,
   "id": "badd7af8-0c6a-43a0-8954-6f044eff91e5",
   "metadata": {},
   "outputs": [
    {
     "data": {
      "text/html": [
       "<div>\n",
       "<style scoped>\n",
       "    .dataframe tbody tr th:only-of-type {\n",
       "        vertical-align: middle;\n",
       "    }\n",
       "\n",
       "    .dataframe tbody tr th {\n",
       "        vertical-align: top;\n",
       "    }\n",
       "\n",
       "    .dataframe thead th {\n",
       "        text-align: right;\n",
       "    }\n",
       "</style>\n",
       "<table border=\"1\" class=\"dataframe\">\n",
       "  <thead>\n",
       "    <tr style=\"text-align: right;\">\n",
       "      <th></th>\n",
       "      <th>release_date</th>\n",
       "      <th>movie</th>\n",
       "      <th>production_budget</th>\n",
       "      <th>domestic_gross</th>\n",
       "      <th>worldwide_gross</th>\n",
       "      <th>distributor</th>\n",
       "      <th>mpaa_rating</th>\n",
       "      <th>genre</th>\n",
       "    </tr>\n",
       "  </thead>\n",
       "  <tbody>\n",
       "    <tr>\n",
       "      <th>3400</th>\n",
       "      <td>7/22/2005</td>\n",
       "      <td>November</td>\n",
       "      <td>250000.0</td>\n",
       "      <td>191862.0</td>\n",
       "      <td>191862.0</td>\n",
       "      <td>Sony Pictures Classics</td>\n",
       "      <td>R</td>\n",
       "      <td>Drama</td>\n",
       "    </tr>\n",
       "    <tr>\n",
       "      <th>3393</th>\n",
       "      <td>6/28/2002</td>\n",
       "      <td>Lovely and Amazing</td>\n",
       "      <td>250000.0</td>\n",
       "      <td>4210379.0</td>\n",
       "      <td>4613482.0</td>\n",
       "      <td>Lionsgate</td>\n",
       "      <td>R</td>\n",
       "      <td>Drama</td>\n",
       "    </tr>\n",
       "    <tr>\n",
       "      <th>3394</th>\n",
       "      <td>4/28/2017</td>\n",
       "      <td>Sleight</td>\n",
       "      <td>250000.0</td>\n",
       "      <td>3930990.0</td>\n",
       "      <td>3934450.0</td>\n",
       "      <td>High Top Releasing</td>\n",
       "      <td>R</td>\n",
       "      <td>Action</td>\n",
       "    </tr>\n",
       "    <tr>\n",
       "      <th>3398</th>\n",
       "      <td>3/28/1997</td>\n",
       "      <td>Love and Other Catastrophes</td>\n",
       "      <td>250000.0</td>\n",
       "      <td>212285.0</td>\n",
       "      <td>743216.0</td>\n",
       "      <td>Fox Searchlight</td>\n",
       "      <td>R</td>\n",
       "      <td>Comedy</td>\n",
       "    </tr>\n",
       "    <tr>\n",
       "      <th>3396</th>\n",
       "      <td>10/28/2011</td>\n",
       "      <td>Like Crazy</td>\n",
       "      <td>250000.0</td>\n",
       "      <td>3395391.0</td>\n",
       "      <td>3728400.0</td>\n",
       "      <td>Paramount Pictures</td>\n",
       "      <td>PG-13</td>\n",
       "      <td>Drama</td>\n",
       "    </tr>\n",
       "    <tr>\n",
       "      <th>...</th>\n",
       "      <td>...</td>\n",
       "      <td>...</td>\n",
       "      <td>...</td>\n",
       "      <td>...</td>\n",
       "      <td>...</td>\n",
       "      <td>...</td>\n",
       "      <td>...</td>\n",
       "      <td>...</td>\n",
       "    </tr>\n",
       "    <tr>\n",
       "      <th>9</th>\n",
       "      <td>11/10/2004</td>\n",
       "      <td>The Polar Express</td>\n",
       "      <td>170000000.0</td>\n",
       "      <td>186493587.0</td>\n",
       "      <td>310634169.0</td>\n",
       "      <td>Warner Bros.</td>\n",
       "      <td>G</td>\n",
       "      <td>Adventure</td>\n",
       "    </tr>\n",
       "    <tr>\n",
       "      <th>3</th>\n",
       "      <td>12/25/2013</td>\n",
       "      <td>47 Ronin</td>\n",
       "      <td>175000000.0</td>\n",
       "      <td>38362475.0</td>\n",
       "      <td>151716815.0</td>\n",
       "      <td>Universal</td>\n",
       "      <td>PG-13</td>\n",
       "      <td>Action</td>\n",
       "    </tr>\n",
       "    <tr>\n",
       "      <th>2</th>\n",
       "      <td>5/12/2017</td>\n",
       "      <td>King Arthur: Legend of the Sword</td>\n",
       "      <td>175000000.0</td>\n",
       "      <td>39175066.0</td>\n",
       "      <td>139950708.0</td>\n",
       "      <td>Warner Bros.</td>\n",
       "      <td>PG-13</td>\n",
       "      <td>Adventure</td>\n",
       "    </tr>\n",
       "    <tr>\n",
       "      <th>1</th>\n",
       "      <td>7/28/1995</td>\n",
       "      <td>Waterworld</td>\n",
       "      <td>175000000.0</td>\n",
       "      <td>88246220.0</td>\n",
       "      <td>264246220.0</td>\n",
       "      <td>Universal</td>\n",
       "      <td>PG-13</td>\n",
       "      <td>Action</td>\n",
       "    </tr>\n",
       "    <tr>\n",
       "      <th>0</th>\n",
       "      <td>6/22/2007</td>\n",
       "      <td>Evan Almighty</td>\n",
       "      <td>175000000.0</td>\n",
       "      <td>100289690.0</td>\n",
       "      <td>174131329.0</td>\n",
       "      <td>Universal</td>\n",
       "      <td>PG</td>\n",
       "      <td>Comedy</td>\n",
       "    </tr>\n",
       "  </tbody>\n",
       "</table>\n",
       "<p>3230 rows × 8 columns</p>\n",
       "</div>"
      ],
      "text/plain": [
       "     release_date                             movie  production_budget  \\\n",
       "3400    7/22/2005                          November           250000.0   \n",
       "3393    6/28/2002                Lovely and Amazing           250000.0   \n",
       "3394    4/28/2017                           Sleight           250000.0   \n",
       "3398    3/28/1997       Love and Other Catastrophes           250000.0   \n",
       "3396   10/28/2011                        Like Crazy           250000.0   \n",
       "...           ...                               ...                ...   \n",
       "9      11/10/2004                 The Polar Express        170000000.0   \n",
       "3      12/25/2013                          47 Ronin        175000000.0   \n",
       "2       5/12/2017  King Arthur: Legend of the Sword        175000000.0   \n",
       "1       7/28/1995                        Waterworld        175000000.0   \n",
       "0       6/22/2007                     Evan Almighty        175000000.0   \n",
       "\n",
       "      domestic_gross  worldwide_gross             distributor mpaa_rating  \\\n",
       "3400        191862.0         191862.0  Sony Pictures Classics           R   \n",
       "3393       4210379.0        4613482.0               Lionsgate           R   \n",
       "3394       3930990.0        3934450.0      High Top Releasing           R   \n",
       "3398        212285.0         743216.0         Fox Searchlight           R   \n",
       "3396       3395391.0        3728400.0      Paramount Pictures       PG-13   \n",
       "...              ...              ...                     ...         ...   \n",
       "9        186493587.0      310634169.0            Warner Bros.           G   \n",
       "3         38362475.0      151716815.0               Universal       PG-13   \n",
       "2         39175066.0      139950708.0            Warner Bros.       PG-13   \n",
       "1         88246220.0      264246220.0               Universal       PG-13   \n",
       "0        100289690.0      174131329.0               Universal          PG   \n",
       "\n",
       "          genre  \n",
       "3400      Drama  \n",
       "3393      Drama  \n",
       "3394     Action  \n",
       "3398     Comedy  \n",
       "3396      Drama  \n",
       "...         ...  \n",
       "9     Adventure  \n",
       "3        Action  \n",
       "2     Adventure  \n",
       "1        Action  \n",
       "0        Comedy  \n",
       "\n",
       "[3230 rows x 8 columns]"
      ]
     },
     "execution_count": 50,
     "metadata": {},
     "output_type": "execute_result"
    }
   ],
   "source": [
    "df"
   ]
  },
  {
   "cell_type": "code",
   "execution_count": 52,
   "id": "dd381fb0-7a48-47ea-9401-550169302ead",
   "metadata": {},
   "outputs": [
    {
     "data": {
      "text/plain": [
       "genre\n",
       "Drama        1180\n",
       "Comedy        775\n",
       "Action        540\n",
       "Adventure     469\n",
       "Horror        266\n",
       "Name: count, dtype: int64"
      ]
     },
     "execution_count": 52,
     "metadata": {},
     "output_type": "execute_result"
    }
   ],
   "source": [
    "df[\"genre\"].value_counts()"
   ]
  },
  {
   "cell_type": "code",
   "execution_count": 55,
   "id": "a7b32e6e-8ee3-4ffe-b520-5bf156431b4e",
   "metadata": {},
   "outputs": [
    {
     "data": {
      "text/plain": [
       "mpaa_rating\n",
       "R        3.208529e+07\n",
       "PG-13    5.487091e+07\n",
       "Name: domestic_gross, dtype: float64"
      ]
     },
     "execution_count": 55,
     "metadata": {},
     "output_type": "execute_result"
    }
   ],
   "source": [
    "df.groupby(\"mpaa_rating\")[\"domestic_gross\"].mean().sort_values(ascending = True).head(2)"
   ]
  },
  {
   "cell_type": "code",
   "execution_count": 56,
   "id": "32bcfee8-8b29-44bc-bb8e-9fb9b74205d7",
   "metadata": {},
   "outputs": [
    {
     "data": {
      "image/png": "[encoded data removed]",
      "text/plain": [
       "<Figure size 640x480 with 1 Axes>"
      ]
     },
     "metadata": {},
     "output_type": "display_data"
    }
   ],
   "source": [
    "# distribution of world wide gross\n",
    "plt.hist(df['worldwide_gross'])\n",
    "plt.title(\"Distribution of worldwide gross\")\n",
    "plt.xlabel(\"Worldwide Gross\")\n",
    "plt.show()"
   ]
  },
  {
   "cell_type": "code",
   "execution_count": 62,
   "id": "4e1d4360-7125-4b8a-a0d8-63022efa2d24",
   "metadata": {},
   "outputs": [
    {
     "data": {
      "image/png": "[encoded data removed]",
      "text/plain": [
       "<Figure size 640x480 with 1 Axes>"
      ]
     },
     "metadata": {},
     "output_type": "display_data"
    }
   ],
   "source": [
    "plt.bar(df['release_date'].head(), df['domestic_gross'].head())\n",
    "plt.title(\"Release Date Domestic Gross\")\n",
    "plt.xlabel('Date')\n",
    "plt.ylabel('Domestic Gross')\n",
    "plt.show()"
   ]
  },
  {
   "cell_type": "code",
   "execution_count": 69,
   "id": "44392175-e089-498e-8745-367844d872a5",
   "metadata": {},
   "outputs": [
    {
     "data": {
      "text/plain": [
       "distributor\n",
       "Warner Bros.            4.821614e+10\n",
       "20th Century Fox        4.697384e+10\n",
       "Universal               4.599647e+10\n",
       "Sony Pictures           3.747076e+10\n",
       "Paramount Pictures      3.732193e+10\n",
       "                            ...     \n",
       "IFC Midnight            0.000000e+00\n",
       "Codex Pictures          0.000000e+00\n",
       "ESX Entertainment       0.000000e+00\n",
       "Castle Hill Product…    0.000000e+00\n",
       "Outrider Pictures       0.000000e+00\n",
       "Name: worldwide_gross, Length: 186, dtype: float64"
      ]
     },
     "execution_count": 69,
     "metadata": {},
     "output_type": "execute_result"
    }
   ],
   "source": [
    "# GROUP DATA BY DISTIRBUTOR AND CALCULATE SUM OF WORLD WIDE GROSS\n",
    "df.groupby('distributor')['worldwide_gross'].sum().sort_values(ascending = False)"
   ]
  },
  {
   "cell_type": "code",
   "execution_count": 71,
   "id": "c87d8e43-3748-467d-911f-99ff8f89b0bd",
   "metadata": {},
   "outputs": [
    {
     "data": {
      "text/plain": [
       "genre\n",
       "Action       5.850313e+07\n",
       "Adventure    6.230153e+07\n",
       "Comedy       2.517041e+07\n",
       "Drama        2.238141e+07\n",
       "Horror       1.881391e+07\n",
       "Name: production_budget, dtype: float64"
      ]
     },
     "execution_count": 71,
     "metadata": {},
     "output_type": "execute_result"
    }
   ],
   "source": [
    "df.groupby('genre')['production_budget'].mean()"
   ]
  },
  {
   "cell_type": "code",
   "execution_count": 73,
   "id": "52272888-f097-4986-8815-15dda3a9b3e4",
   "metadata": {},
   "outputs": [
    {
     "data": {
      "text/plain": [
       "mpaa_rating\n",
       "G        58611764.5\n",
       "PG       48006762.0\n",
       "PG-13    34522221.0\n",
       "R        15934642.0\n",
       "Name: domestic_gross, dtype: float64"
      ]
     },
     "execution_count": 73,
     "metadata": {},
     "output_type": "execute_result"
    }
   ],
   "source": [
    "df.groupby('mpaa_rating')['domestic_gross'].median()"
   ]
  },
  {
   "cell_type": "code",
   "execution_count": 78,
   "id": "5686568a-0a22-40ad-a84b-575e364b6ed7",
   "metadata": {},
   "outputs": [
    {
     "data": {
      "text/plain": [
       "release_date\n",
       "00    820\n",
       "01    691\n",
       "20    537\n",
       "99    350\n",
       "19    218\n",
       "Name: movie, dtype: int64"
      ]
     },
     "execution_count": 78,
     "metadata": {},
     "output_type": "execute_result"
    }
   ],
   "source": [
    "df.groupby(df['release_date'].str.slice(6,8))['movie'].count().sort_values(ascending = False).head()"
   ]
  },
  {
   "cell_type": "code",
   "execution_count": 80,
   "id": "e04f4d8e-787a-42d3-a9a8-696353e9d385",
   "metadata": {},
   "outputs": [
    {
     "data": {
      "text/plain": [
       "genre\n",
       "Action       416769345.0\n",
       "Adventure    474544677.0\n",
       "Comedy       285761243.0\n",
       "Drama        435110554.0\n",
       "Horror       327481748.0\n",
       "Name: domestic_gross, dtype: float64"
      ]
     },
     "execution_count": 80,
     "metadata": {},
     "output_type": "execute_result"
    }
   ],
   "source": [
    "df.groupby(\"genre\")[\"domestic_gross\"].max()"
   ]
  },
  {
   "cell_type": "code",
   "execution_count": 82,
   "id": "ff319dc9-6e4f-4066-9f44-44faebef7517",
   "metadata": {},
   "outputs": [
    {
     "data": {
      "text/plain": [
       "mpaa_rating\n",
       "G        560000.0\n",
       "PG       300000.0\n",
       "PG-13    250000.0\n",
       "R        250000.0\n",
       "Name: production_budget, dtype: float64"
      ]
     },
     "execution_count": 82,
     "metadata": {},
     "output_type": "execute_result"
    }
   ],
   "source": [
    "df.groupby('mpaa_rating')['production_budget'].min()"
   ]
  },
  {
   "cell_type": "code",
   "execution_count": 83,
   "id": "a39ce93b-227f-46ab-bf54-6a58d3fa5c5f",
   "metadata": {},
   "outputs": [
    {
     "data": {
      "text/plain": [
       "distributor\n",
       "20th Century Fox        1.726979e+08\n",
       "8X Entertainment        6.047691e+06\n",
       "A24                     2.332026e+07\n",
       "ARC Entertainment       2.248513e+06\n",
       "Abramorama Films        5.491850e+05\n",
       "                            ...     \n",
       "Well Go USA             1.573010e+08\n",
       "Wrekin Hill Enterta…    6.155376e+07\n",
       "XLrator Media           9.270740e+05\n",
       "Yari Film Group Rel…    4.352631e+07\n",
       "Zeitgeist               6.173485e+06\n",
       "Name: worldwide_gross, Length: 186, dtype: float64"
      ]
     },
     "execution_count": 83,
     "metadata": {},
     "output_type": "execute_result"
    }
   ],
   "source": [
    "df.groupby('distributor')['worldwide_gross'].mean()"
   ]
  },
  {
   "cell_type": "code",
   "execution_count": 86,
   "id": "358b8fee-d77c-490b-9a30-fefcbcbf6b50",
   "metadata": {},
   "outputs": [
    {
     "data": {
      "text/plain": [
       "mpaa_rating\n",
       "G        3.875780e+16\n",
       "PG       3.355641e+16\n",
       "PG-13    2.422744e+16\n",
       "R        9.384744e+15\n",
       "Name: worldwide_gross, dtype: float64"
      ]
     },
     "execution_count": 86,
     "metadata": {},
     "output_type": "execute_result"
    }
   ],
   "source": [
    "df.groupby('mpaa_rating')['worldwide_gross'].var()"
   ]
  },
  {
   "cell_type": "code",
   "execution_count": 88,
   "id": "be1491ff-338d-4bf6-81b2-d5f80fa13926",
   "metadata": {},
   "outputs": [
    {
     "data": {
      "image/png": "[encoded data removed]",
      "text/plain": [
       "<Figure size 640x480 with 1 Axes>"
      ]
     },
     "metadata": {},
     "output_type": "display_data"
    }
   ],
   "source": [
    "df.groupby('genre')['production_budget'].sum().plot(kind = \"bar\")\n",
    "plt.title(\"Total Production Budget by Genre\")\n",
    "plt.xlabel('Genre')\n",
    "plt.ylabel('Total Production Budget')\n",
    "plt.show()"
   ]
  },
  {
   "cell_type": "code",
   "execution_count": 89,
   "id": "8dea5108-abcd-4712-a5d0-1e6d35c0f8db",
   "metadata": {},
   "outputs": [
    {
     "data": {
      "image/png": "[encoded data removed]",
      "text/plain": [
       "<Figure size 640x480 with 1 Axes>"
      ]
     },
     "metadata": {},
     "output_type": "display_data"
    }
   ],
   "source": [
    "#LINE CHART FOR DATE YEARWISE AGAINST THE MEAN OF THE WORLDWIDE GROSS\n",
    "df.groupby(df['release_date'].str.slice(6,8))['worldwide_gross'].mean().plot(kind = 'line')\n",
    "plt.title('Mean Worldwide Gross Over Years')\n",
    "plt.xlabel('Release year')\n",
    "plt.ylabel('Mean Worldwide Gross')\n",
    "plt.show()"
   ]
  },
  {
   "cell_type": "code",
   "execution_count": 92,
   "id": "fc21e37d-a116-472c-b76f-5fbd04277bd4",
   "metadata": {},
   "outputs": [
    {
     "data": {
      "image/png": "[encoded data removed]",
      "text/plain": [
       "<Figure size 640x480 with 1 Axes>"
      ]
     },
     "metadata": {},
     "output_type": "display_data"
    }
   ],
   "source": [
    "df.groupby(df['mpaa_rating'])['domestic_gross'].sum().plot(kind = 'pie')\n",
    "plt.title('Total Domestic Gross By Rating')\n",
    "# to remove unneccesarry y labels\n",
    "plt.ylabel(\"\")\n",
    "plt.show()"
   ]
  },
  {
   "cell_type": "code",
   "execution_count": 95,
   "id": "472dc428-1d42-4871-9211-d75aeab12292",
   "metadata": {},
   "outputs": [
    {
     "data": {
      "image/png": "[encoded data removed]",
      "text/plain": [
       "<Figure size 640x480 with 1 Axes>"
      ]
     },
     "metadata": {},
     "output_type": "display_data"
    }
   ],
   "source": [
    "df.plot(kind = \"scatter\", x = \"production_budget\", y = \"worldwide_gross\")\n",
    "plt.title(\"Scatter Plot of Production Budget vs Woldwide Gross\")\n",
    "plt.xlabel('Production Budget')\n",
    "plt.ylabel('Worldwide Gross')\n",
    "plt.show()"
   ]
  },
  {
   "cell_type": "code",
   "execution_count": null,
   "id": "b1e7fb2e-5001-4b73-a574-c1792b0ebc55",
   "metadata": {},
   "outputs": [],
   "source": [
    "df.groupby(df['distributor'])['domestic_gross'].mean().head().plot(kind = 'barh')\n",
    "plt.title('Average Domestic Gross')"
   ]
  }
 ],
 "metadata": {
  "kernelspec": {
   "display_name": "Python 3 (ipykernel)",
   "language": "python",
   "name": "python3"
  },
  "language_info": {
   "codemirror_mode": {
    "name": "ipython",
    "version": 3
   },
   "file_extension": ".py",
   "mimetype": "text/x-python",
   "name": "python",
   "nbconvert_exporter": "python",
   "pygments_lexer": "ipython3",
   "version": "3.12.7"
  }
 },
 "nbformat": 4,
 "nbformat_minor": 5
}
